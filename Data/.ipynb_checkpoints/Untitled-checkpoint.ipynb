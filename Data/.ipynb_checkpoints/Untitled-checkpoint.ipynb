{
 "cells": [
  {
   "cell_type": "code",
   "execution_count": 1,
   "metadata": {},
   "outputs": [],
   "source": [
    "import pandas as pd\n",
    "import numpy as np"
   ]
  },
  {
   "cell_type": "code",
   "execution_count": 2,
   "metadata": {},
   "outputs": [],
   "source": [
    "df = pd.read_csv(\"imdb.csv\", low_memory=False)"
   ]
  },
  {
   "cell_type": "code",
   "execution_count": 3,
   "metadata": {},
   "outputs": [],
   "source": [
    "data = df.drop(columns = ['cast', 'id'])"
   ]
  },
  {
   "cell_type": "code",
   "execution_count": 4,
   "metadata": {},
   "outputs": [],
   "source": [
    "data = data[data['averageRating'].notna()]"
   ]
  },
  {
   "cell_type": "code",
   "execution_count": 5,
   "metadata": {},
   "outputs": [],
   "source": [
    "stars = data[['averageRating', 'stars']]"
   ]
  },
  {
   "cell_type": "code",
   "execution_count": 6,
   "metadata": {},
   "outputs": [],
   "source": [
    "stars = stars.dropna()"
   ]
  },
  {
   "cell_type": "code",
   "execution_count": 7,
   "metadata": {},
   "outputs": [
    {
     "data": {
      "text/html": [
       "<div>\n",
       "<style scoped>\n",
       "    .dataframe tbody tr th:only-of-type {\n",
       "        vertical-align: middle;\n",
       "    }\n",
       "\n",
       "    .dataframe tbody tr th {\n",
       "        vertical-align: top;\n",
       "    }\n",
       "\n",
       "    .dataframe thead th {\n",
       "        text-align: right;\n",
       "    }\n",
       "</style>\n",
       "<table border=\"1\" class=\"dataframe\">\n",
       "  <thead>\n",
       "    <tr style=\"text-align: right;\">\n",
       "      <th></th>\n",
       "      <th>averageRating</th>\n",
       "      <th>stars</th>\n",
       "    </tr>\n",
       "  </thead>\n",
       "  <tbody>\n",
       "    <tr>\n",
       "      <th>56054</th>\n",
       "      <td>1.3</td>\n",
       "      <td>Joyce Ilg,Torge Oelrich,Otto Waalkes</td>\n",
       "    </tr>\n",
       "    <tr>\n",
       "      <th>52358</th>\n",
       "      <td>1.4</td>\n",
       "      <td>Kirk Cameron,Darren Doane,Bridgette Cameron</td>\n",
       "    </tr>\n",
       "    <tr>\n",
       "      <th>26609</th>\n",
       "      <td>1.5</td>\n",
       "      <td>Eminem,Ja Rule,Pras Michel</td>\n",
       "    </tr>\n",
       "    <tr>\n",
       "      <th>43426</th>\n",
       "      <td>1.5</td>\n",
       "      <td>Hilary Duff,Haylie Duff,Charlie Sheen</td>\n",
       "    </tr>\n",
       "    <tr>\n",
       "      <th>7185</th>\n",
       "      <td>1.5</td>\n",
       "      <td>Eminem,Ja Rule,Pras Michel</td>\n",
       "    </tr>\n",
       "    <tr>\n",
       "      <th>...</th>\n",
       "      <td>...</td>\n",
       "      <td>...</td>\n",
       "    </tr>\n",
       "    <tr>\n",
       "      <th>16718</th>\n",
       "      <td>9.2</td>\n",
       "      <td>Marlon Brando,Al Pacino,James Caan</td>\n",
       "    </tr>\n",
       "    <tr>\n",
       "      <th>19767</th>\n",
       "      <td>9.3</td>\n",
       "      <td>Tim Robbins,Morgan Freeman,Bob Gunton</td>\n",
       "    </tr>\n",
       "    <tr>\n",
       "      <th>19375</th>\n",
       "      <td>9.3</td>\n",
       "      <td>Tim Robbins,Morgan Freeman,Bob Gunton</td>\n",
       "    </tr>\n",
       "    <tr>\n",
       "      <th>16193</th>\n",
       "      <td>9.3</td>\n",
       "      <td>Tim Robbins,Morgan Freeman,Bob Gunton</td>\n",
       "    </tr>\n",
       "    <tr>\n",
       "      <th>343</th>\n",
       "      <td>9.3</td>\n",
       "      <td>Tim Robbins,Morgan Freeman,Bob Gunton</td>\n",
       "    </tr>\n",
       "  </tbody>\n",
       "</table>\n",
       "<p>29365 rows × 2 columns</p>\n",
       "</div>"
      ],
      "text/plain": [
       "       averageRating                                        stars\n",
       "56054            1.3         Joyce Ilg,Torge Oelrich,Otto Waalkes\n",
       "52358            1.4  Kirk Cameron,Darren Doane,Bridgette Cameron\n",
       "26609            1.5                   Eminem,Ja Rule,Pras Michel\n",
       "43426            1.5        Hilary Duff,Haylie Duff,Charlie Sheen\n",
       "7185             1.5                   Eminem,Ja Rule,Pras Michel\n",
       "...              ...                                          ...\n",
       "16718            9.2           Marlon Brando,Al Pacino,James Caan\n",
       "19767            9.3        Tim Robbins,Morgan Freeman,Bob Gunton\n",
       "19375            9.3        Tim Robbins,Morgan Freeman,Bob Gunton\n",
       "16193            9.3        Tim Robbins,Morgan Freeman,Bob Gunton\n",
       "343              9.3        Tim Robbins,Morgan Freeman,Bob Gunton\n",
       "\n",
       "[29365 rows x 2 columns]"
      ]
     },
     "execution_count": 7,
     "metadata": {},
     "output_type": "execute_result"
    }
   ],
   "source": [
    "stars.sort_values(by=['averageRating'])"
   ]
  },
  {
   "cell_type": "code",
   "execution_count": 11,
   "metadata": {},
   "outputs": [
    {
     "name": "stdout",
     "output_type": "stream",
     "text": [
      "23693\n"
     ]
    }
   ],
   "source": [
    "my_dict = {}\n",
    "n = len(stars)\n",
    "for i in range(n):\n",
    "    avgR, star = stars.iloc[i,:]\n",
    "    avgR = float(avgR)\n",
    "    star = star.split(',')\n",
    "    for s in star:\n",
    "        if s not in my_dict.keys():\n",
    "            my_dict[s] = [avgR, 1]\n",
    "        else:\n",
    "            a = my_dict[s]\n",
    "            a = [avgR + a[0], a[1] + 1]\n",
    "            my_dict[s] = a\n",
    "print(len(my_dict))"
   ]
  },
  {
   "cell_type": "code",
   "execution_count": 12,
   "metadata": {},
   "outputs": [],
   "source": [
    "for a in my_dict:\n",
    "    score, n = my_dict[a]\n",
    "    my_dict[a] = score/n\n"
   ]
  },
  {
   "cell_type": "code",
   "execution_count": 13,
   "metadata": {},
   "outputs": [
    {
     "name": "stdout",
     "output_type": "stream",
     "text": [
      "23693\n"
     ]
    }
   ],
   "source": [
    "print(len(my_dict))"
   ]
  },
  {
   "cell_type": "code",
   "execution_count": 14,
   "metadata": {},
   "outputs": [],
   "source": [
    "n = len(data)\n",
    "data['score_star'] =  pd.Series(np.zeros(n), index=data.index)"
   ]
  },
  {
   "cell_type": "code",
   "execution_count": 23,
   "metadata": {},
   "outputs": [
    {
     "data": {
      "text/html": [
       "<div>\n",
       "<style scoped>\n",
       "    .dataframe tbody tr th:only-of-type {\n",
       "        vertical-align: middle;\n",
       "    }\n",
       "\n",
       "    .dataframe tbody tr th {\n",
       "        vertical-align: top;\n",
       "    }\n",
       "\n",
       "    .dataframe thead th {\n",
       "        text-align: right;\n",
       "    }\n",
       "</style>\n",
       "<table border=\"1\" class=\"dataframe\">\n",
       "  <thead>\n",
       "    <tr style=\"text-align: right;\">\n",
       "      <th></th>\n",
       "      <th>averageRating</th>\n",
       "      <th>budget</th>\n",
       "      <th>country</th>\n",
       "      <th>cumulative</th>\n",
       "      <th>director</th>\n",
       "      <th>stars</th>\n",
       "      <th>storyLine</th>\n",
       "      <th>writer</th>\n",
       "      <th>score_star</th>\n",
       "    </tr>\n",
       "  </thead>\n",
       "  <tbody>\n",
       "    <tr>\n",
       "      <th>0</th>\n",
       "      <td>8.3</td>\n",
       "      <td>$30,000,000</td>\n",
       "      <td>USA</td>\n",
       "      <td>$404,265,656</td>\n",
       "      <td>John Lasseter</td>\n",
       "      <td>Tom Hanks,Tim Allen,Don Rickles</td>\n",
       "      <td>A little boy named Andy loves to be in his...</td>\n",
       "      <td>John Lasseter,Pete Docter</td>\n",
       "      <td>0.0</td>\n",
       "    </tr>\n",
       "    <tr>\n",
       "      <th>1</th>\n",
       "      <td>7.0</td>\n",
       "      <td>$65,000,000</td>\n",
       "      <td>USA</td>\n",
       "      <td>$262,821,940</td>\n",
       "      <td>Joe Johnston</td>\n",
       "      <td>Robin Williams,Kirsten Dunst,Bonnie Hunt</td>\n",
       "      <td>Jumanji, one of the most unique--and dange...</td>\n",
       "      <td>Jonathan Hensleigh,Greg Taylor</td>\n",
       "      <td>0.0</td>\n",
       "    </tr>\n",
       "    <tr>\n",
       "      <th>2</th>\n",
       "      <td>6.7</td>\n",
       "      <td>$25,000,000</td>\n",
       "      <td>English,Italian,German</td>\n",
       "      <td>$71,518,503</td>\n",
       "      <td>Howard Deutch</td>\n",
       "      <td>Walter Matthau,Jack Lemmon,Ann-Margret</td>\n",
       "      <td>Things don't seem to change much in Wabash...</td>\n",
       "      <td>Mark Steven Johnson</td>\n",
       "      <td>0.0</td>\n",
       "    </tr>\n",
       "    <tr>\n",
       "      <th>3</th>\n",
       "      <td>5.9</td>\n",
       "      <td>$16,000,000</td>\n",
       "      <td>English</td>\n",
       "      <td>$81,452,156</td>\n",
       "      <td>Forest Whitaker</td>\n",
       "      <td>Whitney Houston,Angela Bassett,Loretta Devine</td>\n",
       "      <td>This story based on the best selling novel...</td>\n",
       "      <td>Terry McMillan,Terry McMillan</td>\n",
       "      <td>0.0</td>\n",
       "    </tr>\n",
       "    <tr>\n",
       "      <th>4</th>\n",
       "      <td>6.1</td>\n",
       "      <td>$30,000,000</td>\n",
       "      <td>English</td>\n",
       "      <td>$76,594,107</td>\n",
       "      <td>Charles Shyer</td>\n",
       "      <td>Steve Martin,Diane Keaton,Martin Short</td>\n",
       "      <td>In this sequel to \"Father of the Bride\", G...</td>\n",
       "      <td>Albert Hackett,Frances Goodrich</td>\n",
       "      <td>0.0</td>\n",
       "    </tr>\n",
       "    <tr>\n",
       "      <th>...</th>\n",
       "      <td>...</td>\n",
       "      <td>...</td>\n",
       "      <td>...</td>\n",
       "      <td>...</td>\n",
       "      <td>...</td>\n",
       "      <td>...</td>\n",
       "      <td>...</td>\n",
       "      <td>...</td>\n",
       "      <td>...</td>\n",
       "    </tr>\n",
       "    <tr>\n",
       "      <th>66849</th>\n",
       "      <td>7.1</td>\n",
       "      <td>NaN</td>\n",
       "      <td>USA</td>\n",
       "      <td>NaN</td>\n",
       "      <td>NaN</td>\n",
       "      <td>NaN</td>\n",
       "      <td>Are you too busy to mix the lettuce and to...</td>\n",
       "      <td>NaN</td>\n",
       "      <td>0.0</td>\n",
       "    </tr>\n",
       "    <tr>\n",
       "      <th>66850</th>\n",
       "      <td>7.3</td>\n",
       "      <td>NaN</td>\n",
       "      <td>South Korea</td>\n",
       "      <td>$3,328,517</td>\n",
       "      <td>NaN</td>\n",
       "      <td>NaN</td>\n",
       "      <td>Five children go to the mountains; magical...</td>\n",
       "      <td>NaN</td>\n",
       "      <td>0.0</td>\n",
       "    </tr>\n",
       "    <tr>\n",
       "      <th>66851</th>\n",
       "      <td>7.0</td>\n",
       "      <td>NaN</td>\n",
       "      <td>French</td>\n",
       "      <td>NaN</td>\n",
       "      <td>NaN</td>\n",
       "      <td>NaN</td>\n",
       "      <td>A young biologist (Sylvie) is thrown into ...</td>\n",
       "      <td>NaN</td>\n",
       "      <td>0.0</td>\n",
       "    </tr>\n",
       "    <tr>\n",
       "      <th>66852</th>\n",
       "      <td>5.9</td>\n",
       "      <td>EUR4,000,000</td>\n",
       "      <td>Spanish,English</td>\n",
       "      <td>$297,682</td>\n",
       "      <td>Hatem Khraiche</td>\n",
       "      <td>Clara Lago,Álex González,Andrés Parra</td>\n",
       "      <td>Helena is a young girl who spent all her l...</td>\n",
       "      <td>Hatem Khraiche</td>\n",
       "      <td>0.0</td>\n",
       "    </tr>\n",
       "    <tr>\n",
       "      <th>66853</th>\n",
       "      <td>3.6</td>\n",
       "      <td>NaN</td>\n",
       "      <td>USA</td>\n",
       "      <td>NaN</td>\n",
       "      <td>Brad Douglas</td>\n",
       "      <td>John T. Woods,Abby Wathen,Lindsae Klein</td>\n",
       "      <td>Amanda Millard, desperate for a job, takes...</td>\n",
       "      <td>Brad Douglas</td>\n",
       "      <td>0.0</td>\n",
       "    </tr>\n",
       "  </tbody>\n",
       "</table>\n",
       "<p>66809 rows × 9 columns</p>\n",
       "</div>"
      ],
      "text/plain": [
       "       averageRating        budget                 country    cumulative  \\\n",
       "0                8.3   $30,000,000                     USA  $404,265,656   \n",
       "1                7.0   $65,000,000                     USA  $262,821,940   \n",
       "2                6.7   $25,000,000  English,Italian,German   $71,518,503   \n",
       "3                5.9   $16,000,000                 English   $81,452,156   \n",
       "4                6.1   $30,000,000                 English   $76,594,107   \n",
       "...              ...           ...                     ...           ...   \n",
       "66849            7.1           NaN                     USA           NaN   \n",
       "66850            7.3           NaN             South Korea    $3,328,517   \n",
       "66851            7.0           NaN                  French           NaN   \n",
       "66852            5.9  EUR4,000,000         Spanish,English      $297,682   \n",
       "66853            3.6           NaN                     USA           NaN   \n",
       "\n",
       "              director                                          stars  \\\n",
       "0        John Lasseter                Tom Hanks,Tim Allen,Don Rickles   \n",
       "1         Joe Johnston       Robin Williams,Kirsten Dunst,Bonnie Hunt   \n",
       "2        Howard Deutch         Walter Matthau,Jack Lemmon,Ann-Margret   \n",
       "3      Forest Whitaker  Whitney Houston,Angela Bassett,Loretta Devine   \n",
       "4        Charles Shyer         Steve Martin,Diane Keaton,Martin Short   \n",
       "...                ...                                            ...   \n",
       "66849              NaN                                            NaN   \n",
       "66850              NaN                                            NaN   \n",
       "66851              NaN                                            NaN   \n",
       "66852   Hatem Khraiche          Clara Lago,Álex González,Andrés Parra   \n",
       "66853     Brad Douglas        John T. Woods,Abby Wathen,Lindsae Klein   \n",
       "\n",
       "                                               storyLine  \\\n",
       "0          A little boy named Andy loves to be in his...   \n",
       "1          Jumanji, one of the most unique--and dange...   \n",
       "2          Things don't seem to change much in Wabash...   \n",
       "3          This story based on the best selling novel...   \n",
       "4          In this sequel to \"Father of the Bride\", G...   \n",
       "...                                                  ...   \n",
       "66849      Are you too busy to mix the lettuce and to...   \n",
       "66850      Five children go to the mountains; magical...   \n",
       "66851      A young biologist (Sylvie) is thrown into ...   \n",
       "66852      Helena is a young girl who spent all her l...   \n",
       "66853      Amanda Millard, desperate for a job, takes...   \n",
       "\n",
       "                                writer  score_star  \n",
       "0            John Lasseter,Pete Docter         0.0  \n",
       "1       Jonathan Hensleigh,Greg Taylor         0.0  \n",
       "2                  Mark Steven Johnson         0.0  \n",
       "3        Terry McMillan,Terry McMillan         0.0  \n",
       "4      Albert Hackett,Frances Goodrich         0.0  \n",
       "...                                ...         ...  \n",
       "66849                              NaN         0.0  \n",
       "66850                              NaN         0.0  \n",
       "66851                              NaN         0.0  \n",
       "66852                   Hatem Khraiche         0.0  \n",
       "66853                     Brad Douglas         0.0  \n",
       "\n",
       "[66809 rows x 9 columns]"
      ]
     },
     "execution_count": 23,
     "metadata": {},
     "output_type": "execute_result"
    }
   ],
   "source": [
    "data"
   ]
  },
  {
   "cell_type": "code",
   "execution_count": null,
   "metadata": {},
   "outputs": [],
   "source": []
  },
  {
   "cell_type": "code",
   "execution_count": 27,
   "metadata": {},
   "outputs": [
    {
     "ename": "AttributeError",
     "evalue": "'float' object has no attribute 'split'",
     "output_type": "error",
     "traceback": [
      "\u001b[0;31m---------------------------------------------------------------------------\u001b[0m",
      "\u001b[0;31mAttributeError\u001b[0m                            Traceback (most recent call last)",
      "\u001b[0;32m<ipython-input-27-1b01b4aaec18>\u001b[0m in \u001b[0;36m<module>\u001b[0;34m\u001b[0m\n\u001b[1;32m      1\u001b[0m \u001b[0;32mfor\u001b[0m \u001b[0mi\u001b[0m \u001b[0;32min\u001b[0m \u001b[0mrange\u001b[0m\u001b[0;34m(\u001b[0m\u001b[0mn\u001b[0m\u001b[0;34m)\u001b[0m\u001b[0;34m:\u001b[0m\u001b[0;34m\u001b[0m\u001b[0;34m\u001b[0m\u001b[0m\n\u001b[1;32m      2\u001b[0m     \u001b[0mstar\u001b[0m \u001b[0;34m=\u001b[0m \u001b[0mdata\u001b[0m\u001b[0;34m.\u001b[0m\u001b[0mat\u001b[0m\u001b[0;34m[\u001b[0m\u001b[0mi\u001b[0m\u001b[0;34m,\u001b[0m\u001b[0;34m'stars'\u001b[0m\u001b[0;34m]\u001b[0m\u001b[0;34m\u001b[0m\u001b[0;34m\u001b[0m\u001b[0m\n\u001b[0;32m----> 3\u001b[0;31m     \u001b[0mstar\u001b[0m \u001b[0;34m=\u001b[0m \u001b[0mstar\u001b[0m\u001b[0;34m.\u001b[0m\u001b[0msplit\u001b[0m\u001b[0;34m(\u001b[0m\u001b[0;34m','\u001b[0m\u001b[0;34m)\u001b[0m\u001b[0;34m\u001b[0m\u001b[0;34m\u001b[0m\u001b[0m\n\u001b[0m\u001b[1;32m      4\u001b[0m     \u001b[0;32mfor\u001b[0m \u001b[0ms\u001b[0m \u001b[0;32min\u001b[0m \u001b[0mstar\u001b[0m\u001b[0;34m:\u001b[0m\u001b[0;34m\u001b[0m\u001b[0;34m\u001b[0m\u001b[0m\n\u001b[1;32m      5\u001b[0m         \u001b[0mdata\u001b[0m\u001b[0;34m.\u001b[0m\u001b[0mat\u001b[0m\u001b[0;34m[\u001b[0m\u001b[0mi\u001b[0m\u001b[0;34m,\u001b[0m\u001b[0;34m'score_star'\u001b[0m\u001b[0;34m]\u001b[0m \u001b[0;34m=\u001b[0m \u001b[0mdata\u001b[0m\u001b[0;34m.\u001b[0m\u001b[0mat\u001b[0m\u001b[0;34m[\u001b[0m\u001b[0mi\u001b[0m\u001b[0;34m,\u001b[0m\u001b[0;34m'score_star'\u001b[0m\u001b[0;34m]\u001b[0m \u001b[0;34m+\u001b[0m \u001b[0mmy_dict\u001b[0m\u001b[0;34m[\u001b[0m\u001b[0ms\u001b[0m\u001b[0;34m]\u001b[0m\u001b[0;34m\u001b[0m\u001b[0;34m\u001b[0m\u001b[0m\n",
      "\u001b[0;31mAttributeError\u001b[0m: 'float' object has no attribute 'split'"
     ]
    }
   ],
   "source": [
    "for i in range(n):\n",
    "    star = data.at[i,'stars']\n",
    "    star = star.split(',')\n",
    "    for s in star:\n",
    "        data.at[i,'score_star'] = data.at[i,'score_star'] + my_dict[s]\n"
   ]
  },
  {
   "cell_type": "code",
   "execution_count": null,
   "metadata": {},
   "outputs": [],
   "source": [
    "data"
   ]
  }
 ],
 "metadata": {
  "kernelspec": {
   "display_name": "Python 3",
   "language": "python",
   "name": "python3"
  },
  "language_info": {
   "codemirror_mode": {
    "name": "ipython",
    "version": 3
   },
   "file_extension": ".py",
   "mimetype": "text/x-python",
   "name": "python",
   "nbconvert_exporter": "python",
   "pygments_lexer": "ipython3",
   "version": "3.8.3"
  }
 },
 "nbformat": 4,
 "nbformat_minor": 4
}
