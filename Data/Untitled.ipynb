{
 "cells": [
  {
   "cell_type": "code",
   "execution_count": 1,
   "metadata": {},
   "outputs": [],
   "source": [
    "import pandas as pd\n",
    "import numpy as np"
   ]
  },
  {
   "cell_type": "code",
   "execution_count": 2,
   "metadata": {},
   "outputs": [],
   "source": [
    "df = pd.read_csv(\"imdb.csv\", low_memory=False)"
   ]
  },
  {
   "cell_type": "code",
   "execution_count": 3,
   "metadata": {},
   "outputs": [],
   "source": [
    "data = df.drop(columns = ['cast'])"
   ]
  },
  {
   "cell_type": "code",
   "execution_count": 4,
   "metadata": {},
   "outputs": [],
   "source": [
    "data=data.drop(data[data['stars'].isnull() &  data['writer'].isnull() & data['director'].isnull()].index).reset_index(drop=True)\n"
   ]
  },
  {
   "cell_type": "code",
   "execution_count": 5,
   "metadata": {},
   "outputs": [],
   "source": [
    "data = data.dropna(subset=['averageRating']).reset_index(drop=True)"
   ]
  },
  {
   "cell_type": "code",
   "execution_count": 6,
   "metadata": {},
   "outputs": [],
   "source": [
    "data.sort_values('id', inplace=True)"
   ]
  },
  {
   "cell_type": "code",
   "execution_count": 7,
   "metadata": {},
   "outputs": [],
   "source": [
    "data.drop_duplicates(keep=\"first\",inplace=True) "
   ]
  },
  {
   "cell_type": "code",
   "execution_count": 8,
   "metadata": {},
   "outputs": [],
   "source": [
    "data = data.reset_index(drop=True)"
   ]
  },
  {
   "cell_type": "code",
   "execution_count": 9,
   "metadata": {},
   "outputs": [],
   "source": [
    "def caculateScore(columnName):\n",
    "    names = data[['averageRating', columnName]]\n",
    "    my_dict = {}\n",
    "    n = len(names)\n",
    "    for i in range(n):\n",
    "        avgR, name = names.iloc[i,:]\n",
    "        if type(name) == str:\n",
    "            avgR = float(avgR)\n",
    "            name = name.split(',')\n",
    "            for s in name:\n",
    "                if s not in my_dict.keys():\n",
    "                    my_dict[s] = [avgR, 1]\n",
    "                else:\n",
    "                    a = my_dict[s]\n",
    "                    a = [avgR + a[0], a[1] + 1]\n",
    "                    my_dict[s] = a\n",
    "#     v_max = 0.0\n",
    "    for a in my_dict:\n",
    "        score, n = my_dict[a]\n",
    "        my_dict[a] = score/n\n",
    "#         if v_max < my_dict[a]:\n",
    "#             v_max = my_dict[a]\n",
    "    n = len(data)\n",
    "    data['score_'+columnName] =  pd.Series(np.zeros(n), index=data.index)\n",
    "    score_name = 'score_'+columnName\n",
    "    for i in range(n):\n",
    "        name = data.at[i,columnName]\n",
    "        if type(name) == str:\n",
    "            name = name.split(',')\n",
    "            for s in name:\n",
    "                data.at[i,score_name] = data.at[i,score_name] + my_dict[s]\n",
    "            data.at[i,score_name] = data.at[i,score_name] "
   ]
  },
  {
   "cell_type": "code",
   "execution_count": 10,
   "metadata": {},
   "outputs": [],
   "source": [
    "caculateScore('stars')"
   ]
  },
  {
   "cell_type": "code",
   "execution_count": 11,
   "metadata": {},
   "outputs": [],
   "source": [
    "caculateScore('director')"
   ]
  },
  {
   "cell_type": "code",
   "execution_count": 12,
   "metadata": {},
   "outputs": [],
   "source": [
    "caculateScore('writer')"
   ]
  },
  {
   "cell_type": "code",
   "execution_count": 13,
   "metadata": {},
   "outputs": [],
   "source": [
    "caculateScore('country')"
   ]
  },
  {
   "cell_type": "code",
   "execution_count": 14,
   "metadata": {},
   "outputs": [],
   "source": [
    "data=data.drop(columns = ['stars', 'writer', 'director', 'country', 'id'])"
   ]
  },
  {
   "cell_type": "code",
   "execution_count": 15,
   "metadata": {},
   "outputs": [],
   "source": [
    "data['averageRating'] = data['averageRating'].round()"
   ]
  },
  {
   "cell_type": "code",
   "execution_count": 16,
   "metadata": {},
   "outputs": [],
   "source": [
    "currency_unit = {\"$\"  : 1,\n",
    "                 \"FRF\": 0.1846,\n",
    "                 \"SEK\": 0.119,\n",
    "                 \"DEM\": 0.6193,\n",
    "                 \"GBP\": 1.335,\n",
    "                 \"ESP\": 0.007279,\n",
    "                 \"ITL\": 0.0006255,\n",
    "                 \"INR\": 0.01354,\n",
    "                 \"JPY\": 0.009611,\n",
    "                 \"RUR\": 0.01356,\n",
    "                 \"AUD\": 0.7426,\n",
    "                 \"CAD\": 0.7816,\n",
    "                 \"HKD\": 0.129,\n",
    "                 \"EUR\": 1.211 ,\n",
    "                 \"DKK\": 0.1627,\n",
    "                 \"NOK\": 0.1144,\n",
    "                 \"ZAR\": 0.06597,\n",
    "                 \"BRL\": 0.1961,\n",
    "                 \"THB\": 0.0332,\n",
    "                 \"CNY\": 0.153,\n",
    "                 \"HUF\": 0.003362,\n",
    "                 \"KRW\": 0.0009222,\n",
    "                 \"ARS\": 0.01227,\n",
    "                 \"NZD\": 0.7033,\n",
    "                 \"CZK\": 0.04571,\n",
    "                 \"IEP\": 1.538,\n",
    "                 \"SGD\": 0.7479,\n",
    "                 \"ILS\": 0.3072,\n",
    "                 \"BGL\": 0.0006192,\n",
    "                 \"ATS\": 0.08802,\n",
    "                 \"BND\": 0.7473, \n",
    "                 \"CHF\": 1.122,\n",
    "                 \"VEB\": 0.0000000004,\n",
    "                 \"PLN\": 0.06605,\n",
    "                 \"CLP\": 0.001342,\n",
    "                 \"PKR\": 0.006242,\n",
    "                 \"NGN\": 0.002607,\n",
    "                 \"COP\": 0.0002876,\n",
    "                 \"MXN\": 0.05033,\n",
    "                 \"TRL\": 0.0000000128,\n",
    "                 \"IDR\": 0.00007059\n",
    "                }"
   ]
  },
  {
   "cell_type": "code",
   "execution_count": 17,
   "metadata": {
    "scrolled": true
   },
   "outputs": [],
   "source": [
    "def convert_monney(name):\n",
    "    for i in range(len(data)):\n",
    "        x = data.at[i,name]\n",
    "        if type(x) == str:\n",
    "            if x[0] == '$':\n",
    "                x = x.replace('$','')\n",
    "                x = x.replace(',','')\n",
    "                x = int(x)\n",
    "                data.at[i,name] = x\n",
    "            else:\n",
    "                a = x[0:3]\n",
    "                x = x[3:]\n",
    "                x = x.replace(',','')\n",
    "                x = float(x)\n",
    "                x = round(x * currency_unit[a])\n",
    "                data.at[i,name] = x\n",
    "\n",
    "    m = round(data[name].mean() ) \n",
    "    data[name] = data[name].fillna(m)"
   ]
  },
  {
   "cell_type": "code",
   "execution_count": 18,
   "metadata": {},
   "outputs": [],
   "source": [
    "convert_monney('budget')"
   ]
  },
  {
   "cell_type": "code",
   "execution_count": 19,
   "metadata": {},
   "outputs": [],
   "source": [
    "convert_monney('cumulative')"
   ]
  },
  {
   "cell_type": "code",
   "execution_count": 20,
   "metadata": {},
   "outputs": [
    {
     "data": {
      "text/html": [
       "<div>\n",
       "<style scoped>\n",
       "    .dataframe tbody tr th:only-of-type {\n",
       "        vertical-align: middle;\n",
       "    }\n",
       "\n",
       "    .dataframe tbody tr th {\n",
       "        vertical-align: top;\n",
       "    }\n",
       "\n",
       "    .dataframe thead th {\n",
       "        text-align: right;\n",
       "    }\n",
       "</style>\n",
       "<table border=\"1\" class=\"dataframe\">\n",
       "  <thead>\n",
       "    <tr style=\"text-align: right;\">\n",
       "      <th></th>\n",
       "      <th>averageRating</th>\n",
       "      <th>budget</th>\n",
       "      <th>cumulative</th>\n",
       "      <th>storyLine</th>\n",
       "      <th>score_stars</th>\n",
       "      <th>score_director</th>\n",
       "      <th>score_writer</th>\n",
       "      <th>score_country</th>\n",
       "    </tr>\n",
       "  </thead>\n",
       "  <tbody>\n",
       "    <tr>\n",
       "      <th>0</th>\n",
       "      <td>5.0</td>\n",
       "      <td>20597339</td>\n",
       "      <td>43925770</td>\n",
       "      <td>Panoramic view of the 1901 Pan-American Ex...</td>\n",
       "      <td>0.000000</td>\n",
       "      <td>5.400000</td>\n",
       "      <td>0.000000</td>\n",
       "      <td>12.923191</td>\n",
       "    </tr>\n",
       "    <tr>\n",
       "      <th>1</th>\n",
       "      <td>8.0</td>\n",
       "      <td>5538</td>\n",
       "      <td>43925770</td>\n",
       "      <td>An association of astronomers has convened...</td>\n",
       "      <td>0.000000</td>\n",
       "      <td>8.200000</td>\n",
       "      <td>24.600000</td>\n",
       "      <td>13.514021</td>\n",
       "    </tr>\n",
       "    <tr>\n",
       "      <th>2</th>\n",
       "      <td>5.0</td>\n",
       "      <td>20597339</td>\n",
       "      <td>43925770</td>\n",
       "      <td>The Rev. Mr. Hollister, nearing the last m...</td>\n",
       "      <td>15.600000</td>\n",
       "      <td>6.450000</td>\n",
       "      <td>5.200000</td>\n",
       "      <td>12.923191</td>\n",
       "    </tr>\n",
       "    <tr>\n",
       "      <th>3</th>\n",
       "      <td>8.0</td>\n",
       "      <td>385907</td>\n",
       "      <td>43925770</td>\n",
       "      <td>Intolerance and its terrible effects are e...</td>\n",
       "      <td>23.250000</td>\n",
       "      <td>6.450000</td>\n",
       "      <td>7.700000</td>\n",
       "      <td>12.923191</td>\n",
       "    </tr>\n",
       "    <tr>\n",
       "      <th>4</th>\n",
       "      <td>7.0</td>\n",
       "      <td>20597339</td>\n",
       "      <td>43925770</td>\n",
       "      <td>Paul Korner is a homosexual musician who f...</td>\n",
       "      <td>21.257143</td>\n",
       "      <td>7.000000</td>\n",
       "      <td>7.000000</td>\n",
       "      <td>19.806525</td>\n",
       "    </tr>\n",
       "    <tr>\n",
       "      <th>...</th>\n",
       "      <td>...</td>\n",
       "      <td>...</td>\n",
       "      <td>...</td>\n",
       "      <td>...</td>\n",
       "      <td>...</td>\n",
       "      <td>...</td>\n",
       "      <td>...</td>\n",
       "      <td>...</td>\n",
       "    </tr>\n",
       "    <tr>\n",
       "      <th>19716</th>\n",
       "      <td>7.0</td>\n",
       "      <td>20597339</td>\n",
       "      <td>30996615</td>\n",
       "      <td>An obsessive CEO of a company meets a ragg...</td>\n",
       "      <td>20.740000</td>\n",
       "      <td>6.700000</td>\n",
       "      <td>12.333333</td>\n",
       "      <td>6.484793</td>\n",
       "    </tr>\n",
       "    <tr>\n",
       "      <th>19717</th>\n",
       "      <td>8.0</td>\n",
       "      <td>20597339</td>\n",
       "      <td>43925770</td>\n",
       "      <td>A seven-part docuseries about the unsolved...</td>\n",
       "      <td>0.000000</td>\n",
       "      <td>31.668421</td>\n",
       "      <td>0.000000</td>\n",
       "      <td>6.180334</td>\n",
       "    </tr>\n",
       "    <tr>\n",
       "      <th>19718</th>\n",
       "      <td>6.0</td>\n",
       "      <td>20597339</td>\n",
       "      <td>43925770</td>\n",
       "      <td>In 2010 David Crowley, an Iraq veteran, as...</td>\n",
       "      <td>0.000000</td>\n",
       "      <td>6.533333</td>\n",
       "      <td>18.600000</td>\n",
       "      <td>6.180334</td>\n",
       "    </tr>\n",
       "    <tr>\n",
       "      <th>19719</th>\n",
       "      <td>6.0</td>\n",
       "      <td>20597339</td>\n",
       "      <td>43925770</td>\n",
       "      <td>In July 2015, Ashley Madison, 'The Origina...</td>\n",
       "      <td>0.000000</td>\n",
       "      <td>11.000000</td>\n",
       "      <td>16.500000</td>\n",
       "      <td>6.180334</td>\n",
       "    </tr>\n",
       "    <tr>\n",
       "      <th>19720</th>\n",
       "      <td>8.0</td>\n",
       "      <td>20597339</td>\n",
       "      <td>43925770</td>\n",
       "      <td>In his first stand-up special, Hasan Minha...</td>\n",
       "      <td>8.300000</td>\n",
       "      <td>8.350000</td>\n",
       "      <td>8.300000</td>\n",
       "      <td>6.180334</td>\n",
       "    </tr>\n",
       "  </tbody>\n",
       "</table>\n",
       "<p>19721 rows × 8 columns</p>\n",
       "</div>"
      ],
      "text/plain": [
       "       averageRating    budget  cumulative  \\\n",
       "0                5.0  20597339    43925770   \n",
       "1                8.0      5538    43925770   \n",
       "2                5.0  20597339    43925770   \n",
       "3                8.0    385907    43925770   \n",
       "4                7.0  20597339    43925770   \n",
       "...              ...       ...         ...   \n",
       "19716            7.0  20597339    30996615   \n",
       "19717            8.0  20597339    43925770   \n",
       "19718            6.0  20597339    43925770   \n",
       "19719            6.0  20597339    43925770   \n",
       "19720            8.0  20597339    43925770   \n",
       "\n",
       "                                               storyLine  score_stars  \\\n",
       "0          Panoramic view of the 1901 Pan-American Ex...     0.000000   \n",
       "1          An association of astronomers has convened...     0.000000   \n",
       "2          The Rev. Mr. Hollister, nearing the last m...    15.600000   \n",
       "3          Intolerance and its terrible effects are e...    23.250000   \n",
       "4          Paul Korner is a homosexual musician who f...    21.257143   \n",
       "...                                                  ...          ...   \n",
       "19716      An obsessive CEO of a company meets a ragg...    20.740000   \n",
       "19717      A seven-part docuseries about the unsolved...     0.000000   \n",
       "19718      In 2010 David Crowley, an Iraq veteran, as...     0.000000   \n",
       "19719      In July 2015, Ashley Madison, 'The Origina...     0.000000   \n",
       "19720      In his first stand-up special, Hasan Minha...     8.300000   \n",
       "\n",
       "       score_director  score_writer  score_country  \n",
       "0            5.400000      0.000000      12.923191  \n",
       "1            8.200000     24.600000      13.514021  \n",
       "2            6.450000      5.200000      12.923191  \n",
       "3            6.450000      7.700000      12.923191  \n",
       "4            7.000000      7.000000      19.806525  \n",
       "...               ...           ...            ...  \n",
       "19716        6.700000     12.333333       6.484793  \n",
       "19717       31.668421      0.000000       6.180334  \n",
       "19718        6.533333     18.600000       6.180334  \n",
       "19719       11.000000     16.500000       6.180334  \n",
       "19720        8.350000      8.300000       6.180334  \n",
       "\n",
       "[19721 rows x 8 columns]"
      ]
     },
     "execution_count": 20,
     "metadata": {},
     "output_type": "execute_result"
    }
   ],
   "source": [
    "data"
   ]
  },
  {
   "cell_type": "code",
   "execution_count": null,
   "metadata": {},
   "outputs": [],
   "source": []
  }
 ],
 "metadata": {
  "kernelspec": {
   "display_name": "Python 3",
   "language": "python",
   "name": "python3"
  },
  "language_info": {
   "codemirror_mode": {
    "name": "ipython",
    "version": 3
   },
   "file_extension": ".py",
   "mimetype": "text/x-python",
   "name": "python",
   "nbconvert_exporter": "python",
   "pygments_lexer": "ipython3",
   "version": "3.8.3"
  }
 },
 "nbformat": 4,
 "nbformat_minor": 4
}
